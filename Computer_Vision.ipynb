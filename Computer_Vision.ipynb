{
 "cells": [
  {
   "cell_type": "code",
   "execution_count": 2,
   "metadata": {},
   "outputs": [
    {
     "name": "stdout",
     "output_type": "stream",
     "text": [
      "Pytorch version: 1.13.1\n",
      "torchvision version 0.14.1\n",
      "Is MPS built? True\n",
      "Is MPS available? True\n"
     ]
    }
   ],
   "source": [
    "import torch\n",
    "from torch import nn\n",
    "\n",
    "import torchvision\n",
    "from torchvision import datasets\n",
    "from torchvision.transforms import ToTensor\n",
    "\n",
    "import matplotlib.pyplot as plt\n",
    "\n",
    "print(f'Pytorch version: {torch.__version__}\\ntorchvision version {torchvision.__version__}')\n",
    "\n",
    "# Check PyTorch has access to MPS(Metal Perfornance Shader, Apple's GPU architecture)\n",
    "print(f'Is MPS built? {torch.backends.mps.is_built()}')\n",
    "print(f'Is MPS available? {torch.backends.mps.is_available()}')\n"
   ]
  },
  {
   "cell_type": "code",
   "execution_count": null,
   "metadata": {},
   "outputs": [],
   "source": []
  }
 ],
 "metadata": {
  "kernelspec": {
   "display_name": "torch-gpu",
   "language": "python",
   "name": "python3"
  },
  "language_info": {
   "codemirror_mode": {
    "name": "ipython",
    "version": 3
   },
   "file_extension": ".py",
   "mimetype": "text/x-python",
   "name": "python",
   "nbconvert_exporter": "python",
   "pygments_lexer": "ipython3",
   "version": "3.8.15"
  },
  "orig_nbformat": 4,
  "vscode": {
   "interpreter": {
    "hash": "c77e0f1fe3dbd174855b0f9304aca02f96412cb1ddff276e3516b4861838cbf1"
   }
  }
 },
 "nbformat": 4,
 "nbformat_minor": 2
}
